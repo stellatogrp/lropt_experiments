{
 "cells": [
  {
   "cell_type": "code",
   "execution_count": 9,
   "metadata": {},
   "outputs": [],
   "source": [
    "import cvxpy as cp\n",
    "import scipy as sc\n",
    "import numpy as np\n",
    "import numpy.random as npr\n",
    "import torch\n",
    "from sklearn import datasets\n",
    "import pandas as pd\n",
    "import lropt\n",
    "import matplotlib.pyplot as plt\n",
    "from sklearn.model_selection import train_test_split\n",
    "from mpl_toolkits.axes_grid1.inset_locator import mark_inset, zoomed_inset_axes\n",
    "import warnings\n",
    "import sys\n",
    "sys.path.append('..')\n",
    "from utils import plot_iters,plot_coverage_all\n",
    "warnings.filterwarnings(\"ignore\")\n",
    "# import ot\n",
    "plt.rcParams.update({\n",
    "    \"text.usetex\":True,\n",
    "    \n",
    "    \"font.size\":18,\n",
    "    \"font.family\": \"serif\"\n",
    "})\n",
    "colors = [\"tab:blue\", \"tab:green\", \"tab:orange\", \n",
    "          \"blue\", \"tab:purple\", \"tab:brown\", \"tab:pink\", \"tab:grey\", \"red\"]"
   ]
  },
  {
   "cell_type": "code",
   "execution_count": 2,
   "metadata": {},
   "outputs": [],
   "source": [
    "import pandas as pd\n",
    "data = pd.read_csv('https://xiongpengnus.github.io/rsome/taxi_rain.csv')\n",
    "demand = data.loc[:, 'Region1':'Region10']  \n",
    "data = demand.values                              # sample demand as an array\n",
    "d_ub = demand.max().values                      # upper bound of demand\n",
    "d_lb = demand.min().values \n",
    "# S = dhat.shape[0]  \n",
    "I, J = 1, 10\n",
    "r = np.array([4.50, 4.41, 3.61, 4.49, 4.38, 4.58, 4.53, 4.64, 4.58, 4.32])\n",
    "c = 3 * np.ones(J)\n",
    "q = 400 * np.ones(I)\n",
    "\n",
    "y_data = []\n",
    "for i in range(10):\n",
    "    y_data.append(r + np.random.normal(0,0.1,J))\n",
    "y_data = np.array(y_data)"
   ]
  },
  {
   "cell_type": "code",
   "execution_count": 3,
   "metadata": {},
   "outputs": [],
   "source": [
    "\n",
    "def f_tch(t, x, y, Y, r, u):\n",
    "    # x is a tensor that represents the cp.Variable x.\n",
    "    return t\n",
    "\n",
    "def g_tch1(t, x, y, Y, r, u):\n",
    "    # x,y,u are tensors that represent the cp.Variable x and cp.Parameter y and \n",
    "    # The cp.Constant c is converted to a tensor\n",
    "    return (torch.tensor(c)-r)@x + r@y + r@Y@u.T - t\n",
    "\n",
    "funcs = [g_tch1]\n",
    "for i in range(J):\n",
    "  def g(t, x, y, Y, r, u, i=i):\n",
    "    return x[i] - (Y[i]+torch.eye(J)[i])@u.T - y[i]\n",
    "  funcs.append(g)\n",
    "\n",
    "for i in range(J):\n",
    "  def g(t, x, y, Y, r, u, i=i):\n",
    "    return -y[i] - Y[i]@u.T\n",
    "  funcs.append(g)\n",
    "    \n",
    "def eval_tch(t, x, y, Y, r, u):\n",
    "    return (torch.tensor(c)-r)@x + r@y + r@Y@u.T"
   ]
  },
  {
   "cell_type": "code",
   "execution_count": 13,
   "metadata": {},
   "outputs": [
    {
     "name": "stderr",
     "output_type": "stream",
     "text": [
      "run 1: test value -34.522, violations 1.0: 100%|██████████| 1000/1000 [11:42<00:00,  1.42it/s] \n",
      "run 2: test value -40.553, violations 1.0: 100%|██████████| 1000/1000 [11:42<00:00,  1.42it/s]\n",
      "run 4: test value -68.536, violations 1.0: 100%|██████████| 1000/1000 [11:42<00:00,  1.42it/s]\n",
      "run 3: test value -88.928, violations 1.0: 100%|██████████| 1000/1000 [11:42<00:00,  1.42it/s]\n",
      "run 0: test value -66.76, violations 1.0: 100%|██████████| 1000/1000 [11:43<00:00,  1.42it/s]\n"
     ]
    }
   ],
   "source": [
    "D = np.vstack([np.eye(J),-np.eye(J)])\n",
    "d = np.hstack([d_ub, -d_lb])\n",
    "u = lropt.UncertainParameter(J,\n",
    "                        uncertainty_set=lropt.Ellipsoidal(p=2,\n",
    "                                                    data=data, rho = 20, c=D,d=d))\n",
    "# Formulate the Robust Problem\n",
    "x = cp.Variable(J)\n",
    "r = lropt.Parameter(J, data = y_data)\n",
    "y = cp.Variable(J)\n",
    "Y = cp.Variable((J,J))\n",
    "t = cp.Variable()\n",
    "r.value = y_data[0]\n",
    "objective = cp.Minimize(t)\n",
    "constraints = [(c-r)@x + r@y + r@Y@u <= t]\n",
    "for i in range(J):\n",
    "    constraints += [y[i] >= x[i] - (Y[i]+np.eye(J)[i])@u]\n",
    "    constraints += [y[i] + Y[i]@u >= 0]\n",
    "constraints += [x >= 0, cp.sum(x)<= q]\n",
    "prob = lropt.RobustProblem(objective, constraints,objective_torch=f_tch, constraints_torch=funcs, eval_torch=eval_tch)\n",
    "\n",
    "\n",
    "target = -0.05\n",
    "test_p = 0.5\n",
    "s = 5\n",
    "train, test = train_test_split(data, test_size=int(data.shape[0]*test_p), random_state=s)\n",
    "init = sc.linalg.sqrtm(sc.linalg.inv(np.cov(train.T))) + np.eye(J)\n",
    "# init = np.eye(J)\n",
    "init_bval = -init@np.mean(train, axis=0)\n",
    "np.random.seed(18)\n",
    "initn = 0.01*init + 0.01*np.random.rand(J, J)\n",
    "init_bvaln = -initn@np.mean(train, axis=0)\n",
    "0\n",
    "# Train A and b\n",
    "result1 = prob.train(lr = 0.0001, num_iter=1000, momentum = 0.8, optimizer = \"SGD\", seed = s, init_eps = 2, init_A = 0.1*init, init_b = 0.1*init_bval, init_lam = 1, init_mu = 0.01, mu_multiplier = 1.005, kappa  = target, init_alpha = -0.005, test_percentage = test_p, position = False, parallel = True, random_init = True, num_random_init = 5)\n",
    "df1 = result1.df\n",
    "A_fin = result1.A\n",
    "b_fin = result1.b"
   ]
  },
  {
   "cell_type": "code",
   "execution_count": 26,
   "metadata": {},
   "outputs": [],
   "source": [
    "# Grid search epsilon\n",
    "result4 = prob.grid(epslst = np.logspace(0,3.5,100), init_A = init, init_b = init_bval, seed = s, init_alpha = 0., test_percentage =test_p)\n",
    "dfgrid = result4.df"
   ]
  },
  {
   "cell_type": "code",
   "execution_count": 19,
   "metadata": {},
   "outputs": [],
   "source": [
    "result5 = prob.grid(epslst = np.logspace(0,2,100), init_A = A_fin, init_b = b_fin, seed = s, init_alpha = 0., test_percentage = test_p)\n",
    "dfgrid2 = result5.df"
   ]
  },
  {
   "cell_type": "code",
   "execution_count": 20,
   "metadata": {},
   "outputs": [
    {
     "data": {
      "image/png": "[encoded data removed]",
      "text/plain": [
       "<Figure size 1440x216 with 2 Axes>"
      ]
     },
     "metadata": {
      "needs_background": "light"
     },
     "output_type": "display_data"
    }
   ],
   "source": [
    "plot_iters(df1,result1.df_test,\"allocation\", steps = 3000)"
   ]
  },
  {
   "cell_type": "code",
   "execution_count": 27,
   "metadata": {},
   "outputs": [
    {
     "data": {
      "image/png": "[encoded data removed]",
      "text/plain": [
       "<Figure size 1656x216 with 3 Axes>"
      ]
     },
     "metadata": {
      "needs_background": "light"
     },
     "output_type": "display_data"
    }
   ],
   "source": [
    "# seed 1\n",
    "plot_coverage_all(dfgrid,dfgrid2,None, \"allocation\",ind_1=(0,3000),ind_2=(0,3000\n",
    "), logscale = False)"
   ]
  },
  {
   "cell_type": "code",
   "execution_count": null,
   "metadata": {},
   "outputs": [
    {
     "data": {
      "text/plain": [
       "(-95.67390875505001,\n",
       " array([1.46564287e-09, 1.45246007e-09, 9.72729475e-10, 1.56369684e-09,\n",
       "        1.22814225e-09, 6.56814253e+01, 1.50836369e-09, 1.95423759e-09,\n",
       "        1.69835675e-09, 1.39116149e-09]))"
      ]
     },
     "execution_count": 9,
     "metadata": {},
     "output_type": "execute_result"
    }
   ],
   "source": [
    "D = np.vstack([np.eye(J),-np.eye(J)])\n",
    "d = np.hstack([d_ub, -d_lb])\n",
    "u = lropt.UncertainParameter(J,\n",
    "                        uncertainty_set=lropt.Polyhedral(D=D, d=d))\n",
    "u = lropt.UncertainParameter(J,\n",
    "                        uncertainty_set=lropt.Ellipsoidal(p=2, rho = 20, a = None, b=-np.mean(train, axis=0), c=D,d=d))\n",
    "# Formulate the Robust Problem\n",
    "x = cp.Variable(J)\n",
    "r = cp.Parameter(J)\n",
    "y = cp.Variable(J)\n",
    "Y = cp.Variable((J,J))\n",
    "t = cp.Variable()\n",
    "r.value = y_data[0]\n",
    "objective = cp.Minimize(t)\n",
    "constraints = [(c-r)@x + r@y + r@Y@u <= t]\n",
    "for i in range(J):\n",
    "    constraints += [y[i] >= x[i] - (Y[i]+np.eye(J)[i])@u]\n",
    "    constraints += [y[i] + Y[i]@u >= 0]\n",
    "constraints += [x >= 0, cp.sum(x)<= q]\n",
    "prob = lropt.RobustProblem(objective, constraints)\n",
    "prob.solve(), x.value"
   ]
  },
  {
   "cell_type": "code",
   "execution_count": 10,
   "metadata": {},
   "outputs": [
    {
     "data": {
      "text/plain": [
       "(-93.02835942162197,\n",
       " array([1.54232864e-09, 1.47822382e-09, 9.50809818e-10, 1.52357378e-09,\n",
       "        1.23728994e-09, 6.38652201e+01, 1.54410602e-09, 1.96651964e-09,\n",
       "        1.81726039e-09, 1.44768876e-09]))"
      ]
     },
     "execution_count": 10,
     "metadata": {},
     "output_type": "execute_result"
    }
   ],
   "source": [
    "u = lropt.UncertainParameter(J,\n",
    "                        uncertainty_set=lropt.MRO(train = False, data = data, rho = 20, a = None, K = 1, c = D, d = d))\n",
    "# Formulate the Robust Problem\n",
    "x = cp.Variable(J)\n",
    "r = cp.Parameter(J)\n",
    "y = cp.Variable(J)\n",
    "Y = cp.Variable((J,J))\n",
    "t = cp.Variable()\n",
    "r.value = y_data[0]\n",
    "objective = cp.Minimize(t)\n",
    "constraints = [(c-r)@x + r@y + r@Y@u <= t]\n",
    "for i in range(J):\n",
    "    constraints += [y[i] >= x[i] - (Y[i]+np.eye(J)[i])@u]\n",
    "    constraints += [y[i] + Y[i]@u >= 0]\n",
    "constraints += [x >= 0, cp.sum(x)<= q]\n",
    "prob = lropt.RobustProblem(objective, constraints)\n",
    "prob.solve(), x.value"
   ]
  },
  {
   "cell_type": "code",
   "execution_count": 146,
   "metadata": {},
   "outputs": [
    {
     "data": {
      "text/plain": [
       "True"
      ]
     },
     "execution_count": 146,
     "metadata": {},
     "output_type": "execute_result"
    }
   ],
   "source": [
    "np.vstack([np.ones(n), np.ones(n)]).T"
   ]
  },
  {
   "cell_type": "code",
   "execution_count": 118,
   "metadata": {},
   "outputs": [],
   "source": [
    "a = [6,3,3,3]\n",
    "b = [2,4,6,1]\n",
    "zipped = zip(a,b)\n",
    "res = sorted(zipped, key = lambda x: (x[0],x[1]))"
   ]
  },
  {
   "cell_type": "code",
   "execution_count": 3,
   "metadata": {},
   "outputs": [
    {
     "data": {
      "text/plain": [
       "-9.99472726803674e-10"
      ]
     },
     "execution_count": 3,
     "metadata": {},
     "output_type": "execute_result"
    }
   ],
   "source": [
    "import cvxpy as cp\n",
    "x1 = cp.Variable()\n",
    "x2 = cp.Variable()\n",
    "objective = cp.Minimize(3*x1 + x2)\n",
    "constraints = [cp.norm(3*x1)<= x2]\n",
    "prob = cp.Problem(objective, constraints)\n",
    "prob.solve()"
   ]
  },
  {
   "cell_type": "code",
   "execution_count": 4,
   "metadata": {},
   "outputs": [
    {
     "data": {
      "text/plain": [
       "-8.445408261614773e-10"
      ]
     },
     "execution_count": 4,
     "metadata": {},
     "output_type": "execute_result"
    }
   ],
   "source": [
    "x1 = cp.Variable()\n",
    "x2 = cp.Variable()\n",
    "objective = cp.Minimize(x1 + x2)\n",
    "constraints = [cp.norm(x1)<= x2]\n",
    "prob = cp.Problem(objective, constraints)\n",
    "prob.solve()"
   ]
  }
 ],
 "metadata": {
  "kernelspec": {
   "display_name": "Python 3",
   "language": "python",
   "name": "python3"
  },
  "language_info": {
   "codemirror_mode": {
    "name": "ipython",
    "version": 3
   },
   "file_extension": ".py",
   "mimetype": "text/x-python",
   "name": "python",
   "nbconvert_exporter": "python",
   "pygments_lexer": "ipython3",
   "version": "3.10.0"
  },
  "orig_nbformat": 4
 },
 "nbformat": 4,
 "nbformat_minor": 2
}
