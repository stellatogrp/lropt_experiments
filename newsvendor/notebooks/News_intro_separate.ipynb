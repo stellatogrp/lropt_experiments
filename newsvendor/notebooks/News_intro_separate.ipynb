{
 "cells": [
  {
   "attachments": {},
   "cell_type": "markdown",
   "metadata": {},
   "source": [
    "# Newsvendor Intro Example"
   ]
  },
  {
   "cell_type": "code",
   "execution_count": 1,
   "metadata": {
    "tags": []
   },
   "outputs": [],
   "source": [
    "import cvxpy as cp\n",
    "import scipy as sc\n",
    "import numpy as np\n",
    "import numpy.random as npr\n",
    "import torch\n",
    "from sklearn import datasets\n",
    "import pandas as pd\n",
    "import lropt\n",
    "import sys\n",
    "sys.path.append('..')\n",
    "from utils import plot_tradeoff,plot_iters, plot_contours, plot_contours_line\n",
    "import matplotlib.pyplot as plt\n",
    "from sklearn.model_selection import train_test_split\n",
    "import warnings\n",
    "warnings.filterwarnings(\"ignore\")\n",
    "plt.rcParams.update({\n",
    "    \"text.usetex\":True,\n",
    "    \n",
    "    \"font.size\":24,\n",
    "    \"font.family\": \"serif\"\n",
    "})"
   ]
  },
  {
   "attachments": {},
   "cell_type": "markdown",
   "metadata": {},
   "source": [
    "### Example 1: Intro example, max of affine uncertainty\n",
    "We consider a problem with max of affine uncertainty, \n",
    "\n",
    "$$g(u,x) = \\max_{l=1,\\dots,L} (P_lu + a_l)^Tx,$$\n",
    "where $P_l$ and $a_l$ are constants for all $l = 1, \\dots, L$. The robust formulation is \n",
    "$$\n",
    "\\begin{array}{ll}\n",
    "\\text{minimize} & \\tau\\\\\n",
    "\\text{subject to}  & \\max_{l=1,\\dots,L} (P_lu + a_l)^Tx  \\leq  \\tau \\quad \\forall u \\in \\mathcal{U}(\\theta)\\\\\n",
    "& x \\geq 0,\n",
    "\\end{array}\n",
    "$$\n",
    "\n",
    "\n",
    "where $\\theta$ encodes the training parameters $(A,b)$.\n",
    "\n",
    "We formulate the Newsvendor problem with this framework, where we solve\n",
    "\\begin{equation}\n",
    "\t\\begin{array}{ll}\n",
    "\t\t\\text{minimize} & \\tau\\\\\n",
    "\t\t\\text{subject to} & k^Tx  + \\max\\{-p^Tx,- p^Tu\\} \\le \\tau \\quad \\forall u \\in \\mathcal{U}(\\theta) \\\\\n",
    "\t\t& x \\geq 0.\n",
    "\t\\end{array}\n",
    "\\end{equation}"
   ]
  },
  {
   "cell_type": "code",
   "execution_count": 18,
   "metadata": {
    "tags": []
   },
   "outputs": [],
   "source": [
    "# Formulate constants\n",
    "n = 2\n",
    "N = 1000\n",
    "test_perc = 0.9\n",
    "\n",
    "def gen_demand_intro(N, seed):\n",
    "    np.random.seed(seed)\n",
    "    sig = np.array([[0.6,-0.4],[-0.3,0.1]])\n",
    "    mu = np.array((0.9,0.7))\n",
    "    norms = np.random.multivariate_normal(mu,sig, N)\n",
    "    d_train = np.exp(norms)\n",
    "    return d_train\n",
    "\n",
    "\n",
    "# Generate data\n",
    "data = gen_demand_intro(N, seed=8)"
   ]
  },
  {
   "cell_type": "code",
   "execution_count": 24,
   "metadata": {},
   "outputs": [],
   "source": [
    "num_instances = 8\n",
    "p_data = []\n",
    "k_data = []\n",
    "for instance in range(num_instances):\n",
    "  np.random.seed(instance+1)\n",
    "  p_data.append(np.random.uniform(2,6,n))\n",
    "  k_data.append(p_data[-1] + np.random.uniform(2,4,n))\n",
    "p_data = np.array(p_data)\n",
    "k_data = np.array(k_data)\n",
    "\n",
    "# p_data = np.random.uniform(2,6,(num_instances,n))\n",
    "# k_data = p_data + np.random.uniform(2,4,(num_instances,n))\n",
    "# # p_data = p + np.random.normal(0,1,(num_instances,n))\n",
    "# # k_data = k + np.random.normal(0,1,(num_instances,n))"
   ]
  },
  {
   "cell_type": "code",
   "execution_count": 27,
   "metadata": {
    "tags": []
   },
   "outputs": [],
   "source": [
    "# Formulate uncertainty set\n",
    "u = lropt.UncertainParameter(n,\n",
    "                        uncertainty_set=lropt.Ellipsoidal(\n",
    "                                                    data=data))\n",
    "# Formulate the Robust Problem\n",
    "x_r = cp.Variable(n)\n",
    "t = cp.Variable()\n",
    "k = lropt.Parameter(2, data=k_data)\n",
    "p = lropt.Parameter(2, data=p_data)\n",
    "\n",
    "objective = cp.Minimize(t)\n",
    "\n",
    "constraints = [cp.maximum(k@x_r - p@x_r, k@x_r - p@u) <= t]\n",
    "constraints += [x_r >= 0]\n",
    "\n",
    "def f_tch(t,x_r,k,p,u):\n",
    "    return t\n",
    "def g_tch(t,x_r,k,p,u):\n",
    "    return torch.maximum(k@x_r - p@x_r, k@x_r - p@u) - t\n",
    "def eval_tch(t,x_r,k,p,u):\n",
    "    return torch.maximum(k@x_r - p@x_r, k@x_r - p@u)\n",
    "\n",
    "\n",
    "prob = lropt.RobustProblem(objective, constraints, f_tch, [g_tch], eval_tch)\n",
    "target = -0.05\n",
    "s = 13\n",
    "\n",
    "\n",
    "# setup intial A, b\n",
    "train, test = train_test_split(data, test_size=int(data.shape[0]*test_perc), random_state=s)\n",
    "init = sc.linalg.sqrtm(sc.linalg.inv(np.cov(train.T)))\n",
    "init_bval = -init@np.mean(train, axis=0)\n",
    "\n",
    "# Train A and b\n",
    "result_train = prob.train(lr = 0.0007, step_y = 0.01, step=200, momentum = 0.8, optimizer = \"SGD\", seed = s, init_A = init, init_b = init_bval, fixb = False, init_lam = 0.05, target_cvar = target, init_alpha = -0.1, test_percentage = test_perc, batch_percentage=1.0)\n",
    "df_train = result_train.df\n",
    "A_train = result_train.A\n",
    "b_train = result_train.b\n",
    "\n",
    "# result3 = prob.train(eps = True, lr = 0.001, step=200, momentum = 0.8, optimizer = \"SGD\", seed = s, init_A = init, init_b = init_bval, init_mu = 1, init_lam = 0,  target_cvar = target, init_alpha  =-0.1, test_percentage = test_perc,scenarios = scenarios, num_instances = num_instances,max_inner_iter = 1)\n",
    "# df_r2 = result3.df"
   ]
  },
  {
   "cell_type": "code",
   "execution_count": 28,
   "metadata": {},
   "outputs": [],
   "source": [
    "# Grid search standard\n",
    "result4 = prob.grid(epslst = np.linspace(0.01, 2.98, 100), init_A = init, init_b = init_bval, seed = s, init_alpha = -0., test_percentage = test_perc)\n",
    "dfgrid = result4.df\n",
    "\n",
    "# Grid search reshaped\n",
    "result5 = prob.grid(epslst = np.linspace(0.01, 2.98, 100), init_A = A_fin, init_b = b_fin, seed = s, init_alpha = -0., test_percentage = test_perc)\n",
    "dfgrid2 = result5.df"
   ]
  },
  {
   "cell_type": "code",
   "execution_count": 29,
   "metadata": {},
   "outputs": [],
   "source": [
    "epslst = np.linspace(0.01, 2.98, 100)\n",
    "prob_list = np.array([0.,0.01,0.05,0.1])\n",
    "inds_standard = []\n",
    "inds_reshaped = []\n",
    "for i in prob_list:\n",
    "    inds_standard.append(np.absolute(np.mean(np.vstack(dfgrid['Violations']),axis = 1)-i).argmin())\n",
    "    inds_reshaped.append(np.absolute(np.mean(np.vstack(dfgrid2['Violations']),axis = 1)-i).argmin())"
   ]
  },
  {
   "cell_type": "code",
   "execution_count": 30,
   "metadata": {},
   "outputs": [
    {
     "data": {
      "image/png": "[encoded data removed]",
      "text/plain": [
       "<Figure size 1080x360 with 1 Axes>"
      ]
     },
     "metadata": {
      "needs_background": "light"
     },
     "output_type": "display_data"
    }
   ],
   "source": [
    "eps_list = np.linspace(0.01, 2.98, 80)\n",
    "\n",
    "plt.figure(figsize=(15, 5))\n",
    "plt.plot(np.mean(np.vstack(dfgrid['Violations']),axis = 1)[:], np.mean(np.vstack(dfgrid['Test_val']),axis = 1)[:], color=\"tab:blue\", label=r\"Standard set\", marker = \"v\",zorder=0)\n",
    "plt.fill(np.append(np.quantile(np.vstack(dfgrid['Violations']),0.25,axis = 1),np.quantile(np.vstack(dfgrid['Violations']),0.75,axis = 1)[::-1]), np.append(np.quantile(np.vstack(dfgrid['Test_val']),0.25,axis = 1),np.quantile(np.vstack(dfgrid['Test_val']),0.75,axis = 1)[::-1]), color=\"tab:blue\", alpha=0.2)\n",
    "for ind in range(4):\n",
    "    plt.scatter(np.mean(np.vstack(dfgrid['Violations']),axis = 1)[inds_standard[ind]],np.mean(np.vstack(dfgrid['Test_val']),axis = 1)[inds_standard[ind]], color=\"tab:green\", s = 50, marker = \"v\",zorder= 10)\n",
    "    # plt.annotate(r\"$\\epsilon$ = {}\".format(round(eps_list[inds_standard[ind]],2)), # this is the text\n",
    "    #               (np.mean(np.vstack(dfgrid['Violations']),axis = 1)[inds_standard[ind]],np.mean(np.vstack(dfgrid['Test_val']),axis = 1)[inds_standard[ind]]), # these are the coordinates to position the label\n",
    "    #               textcoords=\"offset points\", # how to position the text\n",
    "    #               xytext=(5,3), # distance from text to points (x,y)\n",
    "    #               ha='left',color=\"tab:green\",fontsize=15) \n",
    "\n",
    "plt.plot(np.mean(np.vstack(dfgrid2['Violations']),axis = 1),np.mean(np.vstack(dfgrid2['Test_val']),axis = 1), color=\"tab:orange\", label=\"Reshaped set\", marker = \"^\",zorder=1)\n",
    "plt.fill(np.append(np.quantile(np.vstack(dfgrid2['Violations']),0.25,axis = 1),np.quantile(np.vstack(dfgrid2['Violations']),0.75,axis = 1)[::-1]), np.append(np.quantile(np.vstack(dfgrid2['Test_val']),0.25,axis = 1),np.quantile(np.vstack(dfgrid2['Test_val']),0.75,axis = 1)[::-1]), color=\"tab:orange\", alpha=0.2)\n",
    "for ind in [0,2,1,3]:\n",
    "    plt.scatter(np.mean(np.vstack(dfgrid2['Violations']),axis = 1)[inds_reshaped[ind]],np.mean(np.vstack(dfgrid2['Test_val']),axis = 1)[inds_reshaped[ind]], color=\"black\", s = 50, marker = \"^\")\n",
    "    # plt.annotate(r\"$\\epsilon$ = {}\".format(round(eps_list[inds_reshaped[ind]],2)), # this is the text\n",
    "    #               (np.mean(np.vstack(dfgrid2['Violations']),axis = 1)[inds_reshaped[ind]],np.mean(np.vstack(dfgrid2['Test_val']),axis = 1)[inds_reshaped[ind]]), # these are the coordinates to position the label\n",
    "    #               textcoords=\"offset points\", # how to position the text\n",
    "    #               xytext=(5,1), # distance from text to points (x,y)\n",
    "    #               ha='left',color=\"black\", fontsize = 15) \n",
    "plt.ylabel(\"Objective valye\")\n",
    "# ax2.set_xlim([-1,20])\n",
    "plt.xlabel(r\"Probability of constraint violation $(\\hat{\\eta})$\")\n",
    "#plt.xscale(\"log\")\n",
    "plt.ylim([-20,10])\n",
    "plt.vlines(ymin = -20, ymax= 10, x = prob_list[0], linestyles=\":\", color = \"tab:red\", label = \"Reference $\\hat{\\eta}$\")\n",
    "for i in prob_list[1:]:\n",
    "    plt.vlines(ymin = -20, ymax= 10, x = i, linestyles=\":\", color = \"tab:red\")\n",
    "\n",
    "plt.legend()\n",
    "# lgd = plt.legend(loc = \"lower right\", bbox_to_anchor=(1.5, 0.3))\n",
    "plt.savefig(\"ex1_curves_orig.pdf\", bbox_inches='tight')\n",
    "# plt.savefig(\"ex1_curves1.pdf\", bbox_extra_artists=(lgd,), bbox_inches='tight')\n"
   ]
  },
  {
   "cell_type": "code",
   "execution_count": 37,
   "metadata": {
    "tags": []
   },
   "outputs": [
    {
     "data": {
      "image/png": "[encoded data removed]",
      "text/plain": [
       "<Figure size 720x360 with 1 Axes>"
      ]
     },
     "metadata": {
      "needs_background": "light"
     },
     "output_type": "display_data"
    }
   ],
   "source": [
    "plt.figure(figsize=(10, 5))\n",
    "plt.plot(np.mean(np.vstack(dfgrid['Violation_val']),axis = 1)[:], np.mean(np.vstack(dfgrid['Test_val']),axis = 1)[:], color=\"tab:blue\", label=r\"Standard set\", marker = \"v\",zorder=0)\n",
    "plt.fill(np.append(np.quantile(np.vstack(dfgrid['Violation_val']),0.1,axis = 1),np.quantile(np.vstack(dfgrid['Violation_val']),0.9,axis = 1)[::-1]), np.append(np.quantile(np.vstack(dfgrid['Test_val']),0.1,axis = 1),np.quantile(np.vstack(dfgrid['Test_val']),0.90,axis = 1)[::-1]), color=\"tab:blue\", alpha=0.2)\n",
    "for ind in range(4):\n",
    "    plt.scatter(np.mean(np.vstack(dfgrid['Violation_val']),axis = 1)[inds_standard[ind]],np.mean(np.vstack(dfgrid['Test_val']),axis = 1)[inds_standard[ind]], color=\"tab:green\", s = 50, marker = \"v\",zorder= 10)\n",
    "    plt.annotate(r\"$\\epsilon$ = {}\".format(round(eps_list[inds_standard[ind]],2)), # this is the text\n",
    "                  (np.mean(np.vstack(dfgrid['Violation_val']),axis = 1)[inds_standard[ind]],np.mean(np.vstack(dfgrid['Test_val']),axis = 1)[inds_standard[ind]]), # these are the coordinates to position the label\n",
    "                  textcoords=\"offset points\", # how to position the text\n",
    "                  xytext=(5,3), # distance from text to points (x,y)\n",
    "                  ha='left',color=\"tab:green\",fontsize=15) \n",
    "\n",
    "plt.plot(np.mean(np.vstack(dfgrid2['Violation_val']),axis = 1),np.mean(np.vstack(dfgrid2['Test_val']),axis = 1), color=\"tab:orange\", label=\"Reshaped set\", marker = \"^\",zorder=1)\n",
    "plt.fill(np.append(np.quantile(np.vstack(dfgrid2['Violation_val']),0.1,axis = 1),np.quantile(np.vstack(dfgrid2['Violation_val']),0.9,axis = 1)[::-1]), np.append(np.quantile(np.vstack(dfgrid2['Test_val']),0.1,axis = 1),np.quantile(np.vstack(dfgrid2['Test_val']),0.90,axis = 1)[::-1]), color=\"tab:orange\", alpha=0.2)\n",
    "for ind in [1,3]:\n",
    "    plt.scatter(np.mean(np.vstack(dfgrid2['Violation_val']),axis = 1)[inds_reshaped[ind]],np.mean(np.vstack(dfgrid2['Test_val']),axis = 1)[inds_reshaped[ind]], color=\"black\", s = 50, marker = \"^\")\n",
    "    plt.annotate(r\"$\\epsilon$ = {}\".format(round(eps_list[inds_reshaped[ind]],2)), # this is the text\n",
    "                  (np.mean(np.vstack(dfgrid2['Violation_val']),axis = 1)[inds_reshaped[ind]],np.mean(np.vstack(dfgrid2['Test_val']),axis = 1)[inds_reshaped[ind]]), # these are the coordinates to position the label\n",
    "                  textcoords=\"offset points\", # how to position the text\n",
    "                  xytext=(5,1), # distance from text to points (x,y)\n",
    "                  ha='left',color=\"black\", fontsize = 15) \n",
    "plt.ylabel(\"Objective valye\")\n",
    "# ax2.set_xlim([-1,20])\n",
    "# plt.ylim([-50,70])\n",
    "plt.xlabel(\"Empirical $\\mathbf{CVaR}$\")\n",
    "plt.legend()\n",
    "# lgd = plt.legend(loc = \"lower right\", bbox_to_anchor=(1.5, 0.3))\n",
    "plt.savefig(\"ex1_cvar.pdf\", bbox_inches='tight')\n",
    "# plt.savefig(\"ex1_curves1.pdf\", bbox_extra_artists=(lgd,), bbox_inches='tight')\n"
   ]
  },
  {
   "cell_type": "code",
   "execution_count": 38,
   "metadata": {},
   "outputs": [
    {
     "data": {
      "text/plain": [
       "(array([[1.62730016, 0.42997596],\n",
       "        [0.80958556, 1.84201448]]),\n",
       " array([-1.70328934, -2.90230705]),\n",
       " array([[0.40917277, 0.18430826],\n",
       "        [0.18430826, 1.06212202]]),\n",
       " array([-1.70328934, -2.90230704]))"
      ]
     },
     "execution_count": 38,
     "metadata": {},
     "output_type": "execute_result"
    }
   ],
   "source": [
    "x_opt_base = {}\n",
    "x_opt_learned = {}\n",
    "t_learned = {}\n",
    "t_base = {}\n",
    "for ind in range(4):\n",
    "    x_opt_base[ind] = {}\n",
    "    x_opt_learned[ind] = {}\n",
    "    t_learned[ind] = {}\n",
    "    t_base[ind] = {}\n",
    "    for scene in range(num_instances):\n",
    "        n = 2\n",
    "        u = lropt.UncertainParameter(n,\n",
    "                                uncertainty_set=lropt.Ellipsoidal(p=2,\n",
    "                                                            A = (1/eps_list[inds_standard[ind]])*init, b = (1/eps_list[inds_standard[ind]])*init_bval))\n",
    "        # Formulate the Robust Problem\n",
    "        x_r = cp.Variable(n)\n",
    "        t = cp.Variable()\n",
    "        k = k_data[scene]\n",
    "        p = p_data[scene]\n",
    "        # y = cp.Variable()\n",
    "\n",
    "        objective = cp.Minimize(t)\n",
    "\n",
    "        constraints = [cp.maximum(k@x_r - p@x_r, k@x_r - p@u) <= t]\n",
    "        # constraints += [cp.maximum(k1@(x_r-u),0) <= y]\n",
    "        # constraints = [cp.maximum(u@k + k1@x_r -u@(k + k1), u@k + k1@x_r - x_r@(k + k1))<=t]\n",
    "\n",
    "        constraints += [x_r >= 0]\n",
    "\n",
    "        prob = lropt.RobustProblem(objective, constraints)\n",
    "        prob.solve()\n",
    "        # result3.reform_problem.solve()\n",
    "        x_opt_base[ind][scene] = x_r.value\n",
    "\n",
    "        t_base[ind][scene] = t.value\n",
    "\n",
    "        n = 2\n",
    "        u = lropt.UncertainParameter(n,\n",
    "                                uncertainty_set=lropt.Ellipsoidal(p=2,\n",
    "                                                            A = (1/eps_list[inds_reshaped[ind]])*A_fin, b = (1/eps_list[inds_reshaped[ind]])*b_fin))\n",
    "        # Formulate the Robust Problem\n",
    "        x_r = cp.Variable(n)\n",
    "        t = cp.Variable()\n",
    "        k = k_data[scene]\n",
    "        p = p_data[scene]\n",
    "        # y = cp.Variable()\n",
    "\n",
    "        objective = cp.Minimize(t)\n",
    "\n",
    "        constraints = [cp.maximum(k@x_r - p@x_r, k@x_r - p@u) <= t]\n",
    "        # constraints += [cp.maximum(k1@(x_r-u),0) <= y]\n",
    "        # constraints = [cp.maximum(u@k + k1@x_r -u@(k + k1), u@k + k1@x_r - x_r@(k + k1))<=t]\n",
    "\n",
    "        constraints += [x_r >= 0]\n",
    "\n",
    "        prob = lropt.RobustProblem(objective, constraints)\n",
    "        prob.solve()\n",
    "        # result3.reform_problem.solve()\n",
    "        x_opt_learned[ind][scene] = x_r.value\n",
    "\n",
    "        t_learned[ind][scene] = t.value\n",
    "        x_opt_learned,x_opt_base,t_learned, t_base\n",
    "    # A_fin, init, b_fin, init_bval\n",
    "# x_opt_learned,x_opt_base,t_learned, t_base\n",
    "A_fin, b_fin, init, init_bval"
   ]
  },
  {
   "cell_type": "code",
   "execution_count": 39,
   "metadata": {},
   "outputs": [],
   "source": [
    "K =1\n",
    "num_p = 50\n",
    "offset = 2\n",
    "x_min, x_max = np.min(train[:,0]) - offset, np.max(train[:,0]) + offset\n",
    "y_min, y_max = np.min(train[:,1]) - offset, np.max(train[:,1]) + offset\n",
    "X = np.linspace(x_min,x_max,num_p)\n",
    "Y = np.linspace(y_min,y_max,num_p)\n",
    "x,y = np.meshgrid(X,Y)\n",
    "# Z values as a matrix\n",
    "fin_set = {}\n",
    "init_set = {}\n",
    "for ind in range(4):\n",
    "    fin_set[ind] = {}\n",
    "    init_set[ind] = {}\n",
    "    for k_ind in range(K):\n",
    "        fin_set[ind][k_ind] = np.zeros((num_p,num_p))\n",
    "        init_set[ind][k_ind] = np.zeros((num_p,num_p))\n",
    "g_level_learned = {}\n",
    "g_level_base = {}\n",
    "for ind in range(4):\n",
    "    g_level_learned[ind] = {}\n",
    "    g_level_base[ind] = {}\n",
    "    for scene in range(num_instances):\n",
    "        g_level_learned[ind][scene] = np.zeros((num_p,num_p))\n",
    "        g_level_base[ind][scene] = np.zeros((num_p,num_p))\n",
    "# init_set = np.zeros((num_p,num_p))\n",
    "    # Populate Z Values (a 7x7 matrix) - For a circle x^2+y^2=z\n",
    "    for i in range(num_p):\n",
    "        for j in range(num_p):\n",
    "            u_vec = [x[i,j], y[i,j]]\n",
    "            for k_ind in range(K):\n",
    "                fin_set[ind][k_ind][i,j] = np.linalg.norm((1/eps_list[inds_reshaped[ind]])*A_fin[k_ind*n:(k_ind+1)*n, 0:n]@ u_vec + (1/eps_list[inds_reshaped[ind]])*b_fin)\n",
    "\n",
    "            for k_ind in range(K):\n",
    "                init_set[ind][k_ind][i,j] = np.linalg.norm((1/eps_list[inds_standard[ind]])*init[k_ind*n:(k_ind+1)*n, 0:n]@ u_vec  + (1/eps_list[inds_standard[ind]])*init_bval)\n",
    "                \n",
    "            for scene in range(num_instances):\n",
    "                g_level_learned[ind][scene][i,j] = np.maximum(k_data[scene] @ x_opt_learned[ind][scene] - p_data[scene] @ x_opt_learned[ind][scene],k_data[scene] @ x_opt_learned[ind][scene] - p_data[scene] @ u_vec) - t_learned[ind][scene]\n",
    "                g_level_base[ind][scene][i,j] = np.maximum(k_data[scene]@ x_opt_base[ind][scene] - p_data[scene] @ x_opt_base[ind][scene], k_data[scene]@ x_opt_base[ind][scene] - p_data[scene] @ u_vec) - t_base[ind][scene]"
   ]
  },
  {
   "cell_type": "code",
   "execution_count": 40,
   "metadata": {},
   "outputs": [
    {
     "data": {
      "image/png": "[encoded data removed]",
      "text/plain": [
       "<Figure size 1152x252 with 4 Axes>"
      ]
     },
     "metadata": {
      "needs_background": "light"
     },
     "output_type": "display_data"
    },
    {
     "data": {
      "image/png": "[encoded data removed]",
      "text/plain": [
       "<Figure size 1152x252 with 4 Axes>"
      ]
     },
     "metadata": {
      "needs_background": "light"
     },
     "output_type": "display_data"
    }
   ],
   "source": [
    "plot_contours_line(x,y,init_set, g_level_base,prob_list,num_instances,train, \"news_intro\",standard = True) \n",
    "plot_contours_line(x,y,fin_set, g_level_learned,prob_list,num_instances,train, \"news_intro\",standard = False)"
   ]
  },
  {
   "cell_type": "code",
   "execution_count": null,
   "metadata": {},
   "outputs": [],
   "source": []
  }
 ],
 "metadata": {
  "kernelspec": {
   "display_name": "Python 3",
   "language": "python",
   "name": "python3"
  },
  "language_info": {
   "codemirror_mode": {
    "name": "ipython",
    "version": 3
   },
   "file_extension": ".py",
   "mimetype": "text/x-python",
   "name": "python",
   "nbconvert_exporter": "python",
   "pygments_lexer": "ipython3",
   "version": "3.10.0"
  },
  "vscode": {
   "interpreter": {
    "hash": "30c3c09dd4e997e3a7859f8ad32d57c686543aa6231cf005f8af1a5d90496772"
   }
  }
 },
 "nbformat": 4,
 "nbformat_minor": 4
}
