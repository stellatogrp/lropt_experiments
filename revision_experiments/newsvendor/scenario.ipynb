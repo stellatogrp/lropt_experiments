{
 "cells": [
  {
   "cell_type": "code",
   "execution_count": 11,
   "metadata": {},
   "outputs": [],
   "source": [
    "import cvxpy as cp\n",
    "import scipy as sc\n",
    "import numpy as np\n",
    "import numpy.random as npr\n",
    "import torch\n",
    "from sklearn import datasets\n",
    "import pandas as pd\n",
    "import lropt\n",
    "import sys\n",
    "sys.path.append('..')\n",
    "from utils import plot_tradeoff,plot_iters, plot_contours, plot_contours_line\n",
    "import matplotlib.pyplot as plt\n",
    "from sklearn.model_selection import train_test_split\n",
    "import warnings\n",
    "warnings.filterwarnings(\"ignore\")\n",
    "plt.rcParams.update({\n",
    "    \"text.usetex\":True,\n",
    "    \n",
    "    \"font.size\":24,\n",
    "    \"font.family\": \"serif\"\n",
    "})"
   ]
  },
  {
   "cell_type": "code",
   "execution_count": 12,
   "metadata": {},
   "outputs": [],
   "source": [
    "# Formulate constants\n",
    "n = 2\n",
    "N = 500\n",
    "test_perc = 0.99\n",
    "# k = npr.uniform(1,4,n)\n",
    "# p = k + npr.uniform(2,5,n)\n",
    "k_init = np.array([4.,5.])\n",
    "p = np.array([5,6.5])\n",
    "# k_tch = torch.tensor(k, requires_grad = True)?\n",
    "# p_tch = torch.tensor(p, requires_grad = True)\n",
    "\n",
    "def gen_demand_intro(N, seed):\n",
    "    np.random.seed(seed)\n",
    "    sig = np.array([[0.6,-0.3],[-0.3,0.1]])\n",
    "    mu = np.array((1.1,1.7))\n",
    "    norms = np.random.multivariate_normal(mu,sig, N)\n",
    "    d_train = np.exp(norms)\n",
    "    return d_train\n",
    "\n",
    "def gen_demand_cor(N,seed,x):\n",
    "    np.random.seed(seed)\n",
    "    sig = np.eye(2)\n",
    "    mu = np.array((6,7))\n",
    "    points_list = []\n",
    "    for i in range(N):\n",
    "        mu_shift = -0.4*x[i]\n",
    "        newpoint = np.random.multivariate_normal(mu+mu_shift,sig)\n",
    "        points_list.append(newpoint)\n",
    "    return np.vstack(points_list)\n",
    "\n",
    "def calc_eval(x,p,k,u,t):\n",
    "  val = 0\n",
    "  vio = 0\n",
    "  for i in range(u.shape[0]):\n",
    "    val_cur = k[i]@x + np.max([-p[i][0]*x[0] - p[i][1]*x[1],-p[i][0]*x[0] - p[i][1]*u[i][1], -p[i][0]*u[i][0] - p[i][1]*x[1], -p[i][0]*u[i][0]- p[i][1]*u[i][1]]) \n",
    "    val+= val_cur\n",
    "    vio += (val_cur >= t)\n",
    "  return val/u.shape[0], vio/u.shape[0]\n",
    "        \n",
    "# Generate data\n",
    "# data = gen_demand_intro(N, seed=5)\n",
    "rawdata = gen_demand_intro(N, seed=18)"
   ]
  },
  {
   "cell_type": "code",
   "execution_count": 13,
   "metadata": {},
   "outputs": [],
   "source": [
    "num_scenarios = N\n",
    "num_reps = int(N/num_scenarios)\n",
    "k_data = np.maximum(0.5,k_init + np.random.normal(0,3,(num_scenarios,n)))\n",
    "p_data = k_data + np.maximum(0,np.random.normal(0,3,(num_scenarios,n)))\n",
    "p_data = np.vstack([p_data]*num_reps)\n",
    "k_data = np.vstack([k_data]*num_reps)\n",
    "\n",
    "data = gen_demand_cor(N,seed=5,x=p_data)"
   ]
  },
  {
   "cell_type": "code",
   "execution_count": 15,
   "metadata": {},
   "outputs": [
    {
     "name": "stdout",
     "output_type": "stream",
     "text": [
      "[0.01425592 2.45593649]\n",
      "-1.68234642446866 0.07777777777777778\n"
     ]
    }
   ],
   "source": [
    "test_p = 0.9\n",
    "s = 8\n",
    "np.random.seed(s)\n",
    "# setup intial A, b\n",
    "test_indices = np.random.choice(N,int(0.9*N), replace=False)\n",
    "train_indices = [i for i in range(N) if i not in test_indices]\n",
    "train = np.array([data[i] for i in train_indices])\n",
    "test = np.array([data[i] for i in test_indices])\n",
    "k_train = np.array([k_data[i] for i in train_indices])\n",
    "k_test = np.array([k_data[i] for i in test_indices])\n",
    "p_train = np.array([p_data[i] for i in train_indices])\n",
    "p_test = np.array([p_data[i] for i in test_indices])\n",
    "\n",
    "# Formulate uncertainty set\n",
    "u = lropt.UncertainParameter(n,\n",
    "                        uncertainty_set=lropt.Ellipsoidal(\n",
    "                                                    data=data))\n",
    "# Formulate the Robust Problem\n",
    "x_r = cp.Variable(n)\n",
    "t = cp.Variable()\n",
    "k = cp.Parameter(n)\n",
    "p = cp.Parameter(n)\n",
    "p_x = cp.Variable(n)\n",
    "objective = cp.Minimize(t)\n",
    "constraints = []\n",
    "for i in range(train.shape[0]):\n",
    "    constraints += [-p_train[i][0]*x_r[0] - p_train[i][1]*x_r[1] + k_train[i]@x_r  <= t]\n",
    "    constraints += [-p_train[i][0]*x_r[0] - p_train[i][1]*train[i][1] + k_train[i]@x_r  <= t]\n",
    "    constraints += [ -p_train[i][0]*train[i][0] - p_train[i][1]*x_r[1]  + k_train[i]@x_r <= t]\n",
    "    constraints+= [-p_train[i][0]*train[i][0]- p_train[i][1]*train[i][1]  + k_train[i]@x_r <= t]\n",
    "constraints += [x_r >= 0]\n",
    "prob = cp.Problem(objective, constraints)\n",
    "prob.solve()\n",
    "print(x_r.value)\n",
    "eval, prob_vio = calc_eval(x_r.value, p_test, k_test,test,t.value)\n",
    "print(eval,prob_vio)"
   ]
  }
 ],
 "metadata": {
  "kernelspec": {
   "display_name": "Python 3",
   "language": "python",
   "name": "python3"
  },
  "language_info": {
   "codemirror_mode": {
    "name": "ipython",
    "version": 3
   },
   "file_extension": ".py",
   "mimetype": "text/x-python",
   "name": "python",
   "nbconvert_exporter": "python",
   "pygments_lexer": "ipython3",
   "version": "3.11.0"
  }
 },
 "nbformat": 4,
 "nbformat_minor": 2
}
