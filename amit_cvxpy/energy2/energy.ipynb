{
 "cells": [
  {
   "cell_type": "code",
   "execution_count": 1,
   "metadata": {},
   "outputs": [],
   "source": [
    "import pandas as pd\n",
    "\n",
    "Bbus_df = pd.read_excel('ieee_rts.xlsx', sheet_name='Bbus')\n",
    "Bf_df = pd.read_excel('ieee_rts.xlsx', sheet_name='Bf')\n",
    "Gen_df = pd.read_excel('ieee_rts.xlsx', sheet_name='Gen')\n",
    "Rates_df = pd.read_excel('ieee_rts.xlsx', sheet_name='Rates')\n",
    "Load_df = pd.read_excel('ieee_rts.xlsx', sheet_name='Load')\n",
    "\n",
    "Bbus = Bbus_df.values                           # Bbus array\n",
    "Bf = Bf_df.values                               # Bf array\n",
    "\n",
    "R = Rates_df['Rate_A'].values                   # line capacity ratings\n",
    "GBus = Gen_df['GBus'].values                    # generator buses\n",
    "Pmin = Gen_df['Pmin'].values                    # minimum outputs of generators\n",
    "Pmax = Gen_df['Pmax'].values                    # maximum outputs of generators\n",
    "Coeff = Gen_df.loc[:, 'Cost_a':'Cost_c'].values # cost coefficients of generators\n",
    "L = Load_df['Load'].values                      # electricity loads\n",
    "\n",
    "n = Bf.shape[1]                                 # n: Number of buses\n",
    "m = len(GBus)                                   # m: Number of generators"
   ]
  }
 ],
 "metadata": {
  "kernelspec": {
   "display_name": "Python 3",
   "language": "python",
   "name": "python3"
  },
  "language_info": {
   "codemirror_mode": {
    "name": "ipython",
    "version": 3
   },
   "file_extension": ".py",
   "mimetype": "text/x-python",
   "name": "python",
   "nbconvert_exporter": "python",
   "pygments_lexer": "ipython3",
   "version": "3.11.0"
  }
 },
 "nbformat": 4,
 "nbformat_minor": 2
}
