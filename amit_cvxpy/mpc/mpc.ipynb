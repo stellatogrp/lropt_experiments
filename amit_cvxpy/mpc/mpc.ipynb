{
 "cells": [
  {
   "cell_type": "code",
   "execution_count": 1,
   "metadata": {},
   "outputs": [],
   "source": [
    "import cvxpy as cp\n",
    "import scipy as sc\n",
    "import numpy as np\n",
    "import numpy.random as npr\n",
    "import torch\n",
    "from sklearn import datasets\n",
    "from sklearn.cluster import KMeans\n",
    "import pandas as pd\n",
    "import lropt\n",
    "import matplotlib.pyplot as plt\n",
    "from sklearn.model_selection import train_test_split\n",
    "import warnings\n",
    "import scipy.sparse as scs\n",
    "import sys\n",
    "# import ot\n",
    "sys.path.append('..')\n",
    "# from utils import plot_iters, plot_coverage_all\n",
    "warnings.filterwarnings(\"ignore\")\n",
    "plt.rcParams.update({\n",
    "    \"text.usetex\":True,\n",
    "    \n",
    "    \"font.size\":18,\n",
    "    \"font.family\": \"serif\"\n",
    "})\n",
    "colors = [\"tab:blue\", \"tab:green\", \"tab:orange\", \n",
    "          \"blue\", \"tab:purple\", \"tab:brown\", \"tab:pink\", \"tab:grey\", \"red\"]\n"
   ]
  },
  {
   "cell_type": "markdown",
   "metadata": {},
   "source": [
    "## Setup Data"
   ]
  },
  {
   "cell_type": "code",
   "execution_count": 2,
   "metadata": {},
   "outputs": [],
   "source": [
    "M = 5\n",
    "l = 2\n",
    "n = 8\n",
    "m = 3\n",
    "A = np.reshape(np.array([0.19,0.35,0.03,0.00,0.71,0.14,0.01,0.00,0.35,0.22,0.35,0.04,0.14,0.71,0.14,0.01,0.03,0.35,0.23,0.39,0.01,0.14,0.71,0.14,0.00,0.04,0.39,0.58,0.00,0.01,0.14,0.85,-1.28,0.44,0.12,0.01,0.19,0.35,0.03,0.00,0.44,-1.15,0.45,0.13,0.35,0.22,0.35,0.04,0.12,0.45,-1.15,0.57,0.03,0.35,0.23,0.39,0.01,0.13,0.57,-0.71,0.00,0.04,0.39,0.58]),(8,8))\n",
    "B = np.reshape(np.array([0.39,0.00,-0.04,-0.39,0.04,-0.42,-0.04,0.39,-0.04,-0.00,-0.42,-0.00,0.57,0.01,-0.14,-0.58,0.13,-0.71,-0.13,0.57,-0.14,-0.01,-0.71,-0.01]),(8,3))\n",
    "D = np.array([[0,0,0,1,0,0,0,0],[0,0,0,0,0,0,0,1]]).T"
   ]
  },
  {
   "cell_type": "code",
   "execution_count": 3,
   "metadata": {},
   "outputs": [],
   "source": [
    "Q_ = {}\n",
    "for i in range(M-1):\n",
    "  Q_[i] = np.zeros((n,n))\n",
    "Q_[4] = np.bmat([[np.eye(4),np.zeros((4,4))],[np.zeros((4,4)),np.zeros((4,4))]])\n",
    "\n",
    "R_ = {}\n",
    "for i in range(M):\n",
    "  R_[i] = 10e-6*np.eye(m)\n",
    "\n",
    "Q = sc.linalg.block_diag(*[Q_[i] for i in range(M)])\n",
    "Q = scs.csr_matrix(Q)\n",
    "\n",
    "R = sc.linalg.block_diag(*[R_[i] for i in range(M)])\n",
    "R = scs.csr_matrix(R)"
   ]
  },
  {
   "cell_type": "code",
   "execution_count": 4,
   "metadata": {},
   "outputs": [],
   "source": [
    "F = np.vstack([np.linalg.matrix_power(A,i) for i in range(1,M+1)])"
   ]
  },
  {
   "cell_type": "code",
   "execution_count": 5,
   "metadata": {},
   "outputs": [],
   "source": [
    "G = {}\n",
    "for i in range(M):\n",
    "  firsthalf = np.hstack([np.linalg.matrix_power(A,j)@B for j in np.flip(range(i+1))])\n",
    "  if M-i-1 > 0:\n",
    "    secondhalf = np.hstack([np.zeros((n,m))]*(M-i-1))\n",
    "  if i + 1 < M:\n",
    "    G[i] = np.hstack([firsthalf,secondhalf])\n",
    "  else: \n",
    "    G[i] = firsthalf\n",
    "G = np.vstack([G[i] for i in range(M)])\n",
    "G = scs.csr_matrix(G)"
   ]
  },
  {
   "cell_type": "code",
   "execution_count": 6,
   "metadata": {},
   "outputs": [],
   "source": [
    "H = {}\n",
    "for i in range(M):\n",
    "  firsthalf = np.hstack([np.linalg.matrix_power(A,j)@D for j in np.flip(range(i+1))])\n",
    "  if M-i-1 > 0:\n",
    "    secondhalf = np.hstack([np.zeros((n,l))]*(M-i-1))\n",
    "  if i + 1 < M:\n",
    "    H[i] = np.hstack([firsthalf,secondhalf])\n",
    "  else: \n",
    "    H[i] = firsthalf\n",
    "H = np.vstack([H[i] for i in range(M)])"
   ]
  },
  {
   "cell_type": "markdown",
   "metadata": {},
   "source": [
    "## Setup nominal problem"
   ]
  },
  {
   "cell_type": "code",
   "execution_count": 43,
   "metadata": {},
   "outputs": [],
   "source": [
    "S = np.eye(m)\n",
    "C = np.array([[1,0,0,0],[-1,1,0,0],[0,-1,1,0],[0,0,-1,1]])\n",
    "C = np.hstack([C,np.zeros((4,4))])\n",
    "y_bar = 1.8\n",
    "u_bar = 1.8"
   ]
  },
  {
   "cell_type": "code",
   "execution_count": 44,
   "metadata": {},
   "outputs": [],
   "source": [
    "N = 1500\n",
    "np.random.seed(10)\n",
    "data = np.random.normal(size=(N,l*M))\n",
    "testdat = np.random.normal(size=(N,l*M))"
   ]
  },
  {
   "cell_type": "code",
   "execution_count": 45,
   "metadata": {},
   "outputs": [],
   "source": [
    "K = 15\n",
    "k_nums = [1,2,5,10,50,100,500,750,1000,1500]\n",
    "kmeans = KMeans(n_clusters=K, n_init='auto').fit(data)\n",
    "weights = np.bincount(kmeans.labels_) / N\n",
    "gamma = cp.Variable(m*M)\n",
    "theta = cp.Variable((M*m,M*l))\n",
    "eta = cp.Variable()\n",
    "lam = cp.Variable()\n",
    "t = cp.Variable(K)\n",
    "\n",
    "w = cp.Parameter(K)\n",
    "dat = cp.Parameter((K,l*M))\n",
    "epsilon = 0.2\n",
    "rho = cp.Parameter()\n",
    "rho.value = 0.01\n",
    "w.value = weights\n",
    "dat.value = kmeans.cluster_centers_\n",
    "# outer = 0\n",
    "# for k in data:\n",
    "#   outer += np.outer(k,k)\n",
    "# outer_exp = outer/(data.shape[0])\n",
    "# obj = (F@np.zeros(n) + G@gamma).T@Q@(F@np.zeros(n) + G@gamma) + 2*(F@np.zeros(n) + G@gamma)@Q@((H+G@theta)@np.mean(data,axis=0)) + cp.trace(((H+G@theta).T@Q@(H+G@theta))@outer_exp) + gamma@R@gamma + 2*(gamma@R@theta)@np.mean(data,axis=0) + cp.trace((theta.T@R@theta)@outer_exp)\n"
   ]
  },
  {
   "cell_type": "code",
   "execution_count": 46,
   "metadata": {},
   "outputs": [
    {
     "data": {
      "text/plain": [
       "2.519197849129555e-09"
      ]
     },
     "execution_count": 46,
     "metadata": {},
     "output_type": "execute_result"
    }
   ],
   "source": [
    "objective = cp.quad_form(F@np.zeros(n) + G@(gamma + theta@np.mean(data,axis=0))+ H@np.mean(data,axis=0),Q) + cp.quad_form(gamma + theta@np.mean(data,axis=0),R)\n",
    "constraints = [eta + lam*rho + w@t <= 0]\n",
    "for i in range(M):\n",
    "    constraints += [theta[i*m:(i+1)*m, i*l:]==0]\n",
    "  \n",
    "for i in range(M): \n",
    "    for j in range(m):\n",
    "        constraints +=[cp.norm((1/epsilon)*S[j]@(theta[(i*m):(i+1)*m]))<= lam]\n",
    "        for k in range(K):\n",
    "            constraints += [(1/epsilon)*(-eta - u_bar + S[j]@gamma[(i*m):(i+1)*m] + S[j]@(theta[(i*m):(i+1)*m]@dat[k])) <= t[k]]\n",
    "            constraints += [(1/epsilon)*(-eta - u_bar - S[j]@gamma[(i*m):(i+1)*m] - S[j]@(theta[(i*m):(i+1)*m]@dat[k])) <= t[k]]\n",
    "for i in range(M): \n",
    "    for j in range(4):\n",
    "        constraints +=[cp.norm((1/epsilon)*C[j]@((H+G@theta)[(i*n):(i+1)*n]))<= lam]\n",
    "        for k in range(K):\n",
    "            constraints += [(1/epsilon)*(-eta - y_bar + C[j]@(F[(i*n):(i+1)*n]@np.zeros(n) + (G@gamma)[(i*n):(i+1)*n]) + C[j]@(((H+G@theta)[(i*n):(i+1)*n])@dat[k])) <= t[k]]\n",
    "            constraints += [(1/epsilon)*(-eta - y_bar - C[j]@(F[(i*n):(i+1)*n]@np.zeros(n) + (G@gamma)[(i*n):(i+1)*n]) - C[j]@(((H+G@theta)[(i*n):(i+1)*n])@dat[k])) <= t[k]] \n",
    "constraints += [t >=0]\n",
    "problem = cp.Problem(cp.Minimize(objective), constraints)\n",
    "problem.solve(solver = \"CLARABEL\")"
   ]
  },
  {
   "cell_type": "code",
   "execution_count": 48,
   "metadata": {},
   "outputs": [
    {
     "data": {
      "text/plain": [
       "(1.994891101965555, -0.028125180426977307)"
      ]
     },
     "execution_count": 48,
     "metadata": {},
     "output_type": "execute_result"
    }
   ],
   "source": [
    "evalval = 0\n",
    "for k in range(testdat.shape[0]): \n",
    "    evalval += np.maximum(np.maximum(np.max([np.linalg.norm(C@(F[(i*n):(i+1)*n]@np.zeros(n) + (G@gamma.value)[(i*n):(i+1)*n] + (H+G@theta.value)[(i*n):(i+1)*n]@testdat[k]),np.inf) - y_bar for i in range(M)]), np.max([np.linalg.norm(S@(gamma.value[(i*m):(i+1)*m] + theta.value[(i*m):(i+1)*m]@testdat[k]), np.inf) - u_bar for i in range(M)])) - eta.value,0)\n",
    "evalval = eta.value + (evalval/testdat.shape[0])/epsilon\n",
    "\n",
    "eval1 = 0\n",
    "for k in range(testdat.shape[0]): \n",
    "    eval1 += np.maximum(np.max([np.linalg.norm(C@(F[(i*n):(i+1)*n]@np.zeros(n) + (G@gamma.value)[(i*n):(i+1)*n] + (H+G@theta.value)[(i*n):(i+1)*n]@testdat[k]),np.inf) - y_bar for i in range(M)]), np.max([np.linalg.norm(S@(gamma.value[(i*m):(i+1)*m] + theta.value[(i*m):(i+1)*m]@testdat[k]), np.inf) - u_bar for i in range(M)]))\n",
    "eval1 = eval1/testdat.shape[0]\n",
    "\n",
    "evalval, eval1"
   ]
  },
  {
   "cell_type": "markdown",
   "metadata": {},
   "source": [
    "## Varying CVaR"
   ]
  },
  {
   "cell_type": "code",
   "execution_count": 59,
   "metadata": {},
   "outputs": [],
   "source": [
    "S = np.eye(m)\n",
    "C = np.array([[1,0,0,0],[-1,1,0,0],[0,-1,1,0],[0,0,-1,1]])\n",
    "C = np.hstack([C,np.zeros((4,4))])\n",
    "y_bar = 1.8\n",
    "u_bar = 1.8\n",
    "\n",
    "K = 15\n",
    "k_nums = [1,2,5,10,50,100,500,750,1000,1500]\n",
    "kmeans = KMeans(n_clusters=K, n_init='auto').fit(data)\n",
    "weights = np.bincount(kmeans.labels_) / N\n",
    "gamma = cp.Variable(m*M)\n",
    "theta = cp.Variable((M*m,M*l))\n",
    "eta = cp.Variable(M)\n",
    "lam = cp.Variable()\n",
    "t = cp.Variable(K)\n",
    "\n",
    "w = cp.Parameter(K)\n",
    "dat = cp.Parameter((K,l*M))\n",
    "epsilon = np.array([0.1,0.2,0.2,0.2,0.2])\n",
    "rho = cp.Parameter()\n",
    "rho.value = 0.01\n",
    "w.value = weights\n",
    "dat.value = kmeans.cluster_centers_"
   ]
  },
  {
   "cell_type": "code",
   "execution_count": 60,
   "metadata": {},
   "outputs": [
    {
     "data": {
      "text/plain": [
       "2.519197842676049e-09"
      ]
     },
     "execution_count": 60,
     "metadata": {},
     "output_type": "execute_result"
    }
   ],
   "source": [
    "objective = cp.quad_form(F@np.zeros(n) + G@(gamma + theta@np.mean(data,axis=0))+ H@np.mean(data,axis=0),Q) + cp.quad_form(gamma + theta@np.mean(data,axis=0),R)\n",
    "constraints = [lam*rho + w@t <= 0]\n",
    "for i in range(M):\n",
    "    constraints += [theta[i*m:(i+1)*m, i*l:]==0]\n",
    "  \n",
    "for i in range(M): \n",
    "    for j in range(m):\n",
    "        constraints +=[cp.norm((1/epsilon[i])*S[j]@(theta[(i*m):(i+1)*m]))<= lam]\n",
    "        for k in range(K):\n",
    "            constraints += [eta[i] +(1/epsilon[i])*(-eta[i]  - u_bar + S[j]@gamma[(i*m):(i+1)*m] + S[j]@(theta[(i*m):(i+1)*m]@dat[k])) <= t[k]]\n",
    "            constraints += [eta[i] +(1/epsilon[i])*(-eta[i] - u_bar - S[j]@gamma[(i*m):(i+1)*m] - S[j]@(theta[(i*m):(i+1)*m]@dat[k])) <= t[k]]\n",
    "\n",
    "for i in range(M): \n",
    "    for j in range(4):\n",
    "        constraints +=[cp.norm((1/epsilon[i])*C[j]@((H+G@theta)[(i*n):(i+1)*n]))<= lam]\n",
    "        for k in range(K):\n",
    "            constraints += [eta[i] + (1/epsilon[i])*(-eta[i]- y_bar + C[j]@(F[(i*n):(i+1)*n]@np.zeros(n) + (G@gamma)[(i*n):(i+1)*n]) + C[j]@(((H+G@theta)[(i*n):(i+1)*n])@dat[k])) <= t[k]]\n",
    "            constraints += [eta[i] + (1/epsilon[i])*(-eta[i]- y_bar - C[j]@(F[(i*n):(i+1)*n]@np.zeros(n) + (G@gamma)[(i*n):(i+1)*n]) - C[j]@(((H+G@theta)[(i*n):(i+1)*n])@dat[k])) <= t[k]] \n",
    "\n",
    "for i in range(M):\n",
    "    constraints += [t >= eta[i]]\n",
    "problem = cp.Problem(cp.Minimize(objective), constraints)\n",
    "problem.solve(solver = \"CLARABEL\")"
   ]
  },
  {
   "cell_type": "code",
   "execution_count": 61,
   "metadata": {},
   "outputs": [
    {
     "data": {
      "text/plain": [
       "(3.906252619839626, 0.024918549033982638)"
      ]
     },
     "execution_count": 61,
     "metadata": {},
     "output_type": "execute_result"
    }
   ],
   "source": [
    "evalval = 0\n",
    "for k in range(testdat.shape[0]): \n",
    "    evalval += np.maximum(np.max([eta[i].value + np.maximum((np.linalg.norm(C@(F[(i*n):(i+1)*n]@np.zeros(n) + (G@gamma.value)[(i*n):(i+1)*n] + (H+G@theta.value)[(i*n):(i+1)*n]@testdat[k]),np.inf) - y_bar -eta[i].value),0)/epsilon[i] for i in range(M)]), np.max([eta[i].value + np.maximum((np.linalg.norm(S@(gamma.value[(i*m):(i+1)*m] + theta.value[(i*m):(i+1)*m]@testdat[k]), np.inf) - u_bar - eta[i].value),0)/epsilon[i] for i in range(M)]))\n",
    "evalval = evalval/testdat.shape[0]\n",
    "eval1 = 0\n",
    "for k in range(testdat.shape[0]): \n",
    "    eval1 += np.maximum(np.max([np.linalg.norm(C@(F[(i*n):(i+1)*n]@np.zeros(n) + (G@gamma.value)[(i*n):(i+1)*n] + (H+G@theta.value)[(i*n):(i+1)*n]@testdat[k]),np.inf) - y_bar for i in range(M)]), np.max([np.linalg.norm(S@(gamma.value[(i*m):(i+1)*m] + theta.value[(i*m):(i+1)*m]@testdat[k]), np.inf) - u_bar for i in range(M)]))\n",
    "eval1 = eval1/testdat.shape[0]\n",
    "\n",
    "evalval, eval1"
   ]
  },
  {
   "cell_type": "markdown",
   "metadata": {},
   "source": [
    "## Varying f"
   ]
  },
  {
   "cell_type": "code",
   "execution_count": 49,
   "metadata": {},
   "outputs": [],
   "source": [
    "S = {}\n",
    "C = {}\n",
    "inds = [1,0.9,0.8,0.7,0.6]\n",
    "for i in range(M):\n",
    "    S[i] = inds[i]*np.eye(m)\n",
    "    temp = np.array([[1,0,0,0],[-1,1,0,0],[0,-1,1,0],[0,0,-1,1]])\n",
    "    C[i] = inds[i]*np.hstack([temp,np.zeros((4,4))])\n",
    "y_bar = 1.8\n",
    "u_bar = 1.8"
   ]
  },
  {
   "cell_type": "code",
   "execution_count": 50,
   "metadata": {},
   "outputs": [],
   "source": [
    "K = 15\n",
    "k_nums = [1,2,5,10,50,100,500,750,1000,1500]\n",
    "kmeans = KMeans(n_clusters=K, n_init='auto').fit(data)\n",
    "weights = np.bincount(kmeans.labels_) / N\n",
    "gamma = cp.Variable(m*M)\n",
    "theta = cp.Variable((M*m,M*l))\n",
    "eta = cp.Variable()\n",
    "lam = cp.Variable()\n",
    "t = cp.Variable(K)\n",
    "w = cp.Parameter(K)\n",
    "dat = cp.Parameter((K,l*M))\n",
    "epsilon = 0.2\n",
    "rho = cp.Parameter()\n",
    "rho.value = 0.01\n",
    "w.value = weights\n",
    "dat.value = kmeans.cluster_centers_"
   ]
  },
  {
   "cell_type": "code",
   "execution_count": 51,
   "metadata": {},
   "outputs": [
    {
     "data": {
      "text/plain": [
       "2.519197872355496e-09"
      ]
     },
     "execution_count": 51,
     "metadata": {},
     "output_type": "execute_result"
    }
   ],
   "source": [
    "objective = cp.quad_form(F@np.zeros(n) + G@(gamma + theta@np.mean(data,axis=0))+ H@np.mean(data,axis=0),Q) + cp.quad_form(gamma + theta@np.mean(data,axis=0),R)\n",
    "constraints = [eta + lam*rho + w@t <= 0]\n",
    "for i in range(M):\n",
    "    constraints += [theta[i*m:(i+1)*m, i*l:]==0]\n",
    "  \n",
    "for i in range(M): \n",
    "    for j in range(m):\n",
    "        constraints +=[cp.norm((1/epsilon)*S[i][j]@(theta[(i*m):(i+1)*m]))<= lam]\n",
    "        for k in range(K):\n",
    "            constraints += [(1/epsilon)*(-eta - u_bar + S[i][j]@gamma[(i*m):(i+1)*m] + S[i][j]@(theta[(i*m):(i+1)*m]@dat[k])) <= t[k]]\n",
    "            constraints += [(1/epsilon)*(-eta - u_bar - S[i][j]@gamma[(i*m):(i+1)*m] - S[i][j]@(theta[(i*m):(i+1)*m]@dat[k])) <= t[k]]\n",
    "\n",
    "for i in range(M): \n",
    "    for j in range(4):\n",
    "        constraints +=[cp.norm((1/epsilon)*C[j]@((H+G@theta)[(i*n):(i+1)*n]))<= lam]\n",
    "        for k in range(K):\n",
    "            constraints += [(1/epsilon)*(-eta - y_bar + C[i][j]@(F[(i*n):(i+1)*n]@np.zeros(n) + (G@gamma)[(i*n):(i+1)*n]) + C[i][j]@(((H+G@theta)[(i*n):(i+1)*n])@dat[k])) <= t[k]]\n",
    "            constraints += [(1/epsilon)*(-eta - y_bar - C[i][j]@(F[(i*n):(i+1)*n]@np.zeros(n) + (G@gamma)[(i*n):(i+1)*n]) - C[i][j]@(((H+G@theta)[(i*n):(i+1)*n])@dat[k])) <= t[k]] \n",
    "constraints += [t>=0]\n",
    "problem = cp.Problem(cp.Minimize(objective), constraints)\n",
    "problem.solve(solver = \"CLARABEL\")"
   ]
  },
  {
   "cell_type": "code",
   "execution_count": 52,
   "metadata": {},
   "outputs": [
    {
     "data": {
      "text/plain": [
       "(0.5570373871796714, -0.37903828750161034)"
      ]
     },
     "execution_count": 52,
     "metadata": {},
     "output_type": "execute_result"
    }
   ],
   "source": [
    "evalval = 0\n",
    "for k in range(testdat.shape[0]): \n",
    "    evalval += np.maximum(np.maximum(np.max([np.linalg.norm(C[i]@(F[(i*n):(i+1)*n]@np.zeros(n) + (G@gamma.value)[(i*n):(i+1)*n] + (H+G@theta.value)[(i*n):(i+1)*n]@testdat[k]),np.inf) - y_bar for i in range(M)]), np.max([np.linalg.norm(S[i]@(gamma.value[(i*m):(i+1)*m] + theta.value[(i*m):(i+1)*m]@testdat[k]), np.inf) - u_bar for i in range(M)])) - eta.value,0)\n",
    "evalval = eta.value + (evalval/testdat.shape[0])/epsilon\n",
    "\n",
    "eval1 = 0\n",
    "for k in range(testdat.shape[0]): \n",
    "    eval1 += np.maximum(np.max([np.linalg.norm(C[i]@(F[(i*n):(i+1)*n]@np.zeros(n) + (G@gamma.value)[(i*n):(i+1)*n] + (H+G@theta.value)[(i*n):(i+1)*n]@testdat[k]),np.inf) - y_bar for i in range(M)]), np.max([np.linalg.norm(S[i]@(gamma.value[(i*m):(i+1)*m] + theta.value[(i*m):(i+1)*m]@testdat[k]), np.inf) - u_bar for i in range(M)]))\n",
    "eval1 = eval1/testdat.shape[0]\n",
    "\n",
    "evalval, eval1"
   ]
  },
  {
   "cell_type": "markdown",
   "metadata": {},
   "source": [
    "## Varying distance"
   ]
  },
  {
   "cell_type": "code",
   "execution_count": 67,
   "metadata": {},
   "outputs": [],
   "source": [
    "scales = np.array([5,5,4,4,3,3,2,2,1,1])\n",
    "scales = scales/np.mean(scales)\n",
    "D_bar = np.diag(scales)\n",
    "D_bar_inv = np.linalg.inv(D_bar)"
   ]
  },
  {
   "cell_type": "code",
   "execution_count": 68,
   "metadata": {},
   "outputs": [],
   "source": [
    "S = np.eye(m)\n",
    "C = np.array([[1,0,0,0],[-1,1,0,0],[0,-1,1,0],[0,0,-1,1]])\n",
    "C = np.hstack([C,np.zeros((4,4))])\n",
    "y_bar = 1.8\n",
    "u_bar = 1.8"
   ]
  },
  {
   "cell_type": "code",
   "execution_count": 69,
   "metadata": {},
   "outputs": [],
   "source": [
    "K = 15\n",
    "k_nums = [1,2,5,10,50,100,500,750,1000,1500]\n",
    "rescaled_dat = data@D_bar\n",
    "kmeans = KMeans(n_clusters=K, n_init='auto').fit(rescaled_dat)\n",
    "weights = np.bincount(kmeans.labels_) / N\n",
    "gamma = cp.Variable(m*M)\n",
    "theta = cp.Variable((M*m,M*l))\n",
    "eta = cp.Variable()\n",
    "lam = cp.Variable()\n",
    "t = cp.Variable(K)\n",
    "\n",
    "w = cp.Parameter(K)\n",
    "dat = cp.Parameter((K,l*M))\n",
    "epsilon = 0.2\n",
    "rho = cp.Parameter()\n",
    "rho.value = 0.001\n",
    "w.value = weights\n",
    "dat.value = kmeans.cluster_centers_@D_bar_inv"
   ]
  },
  {
   "cell_type": "code",
   "execution_count": 70,
   "metadata": {},
   "outputs": [
    {
     "data": {
      "text/plain": [
       "2.5192025844038145e-09"
      ]
     },
     "execution_count": 70,
     "metadata": {},
     "output_type": "execute_result"
    }
   ],
   "source": [
    "objective = cp.quad_form(F@np.zeros(n) + G@(gamma + theta@np.mean(data,axis=0))+ H@np.mean(data,axis=0),Q) + cp.quad_form(gamma + theta@np.mean(data,axis=0),R)\n",
    "constraints = [eta + lam*rho + w@t <= 0]\n",
    "for i in range(M):\n",
    "    constraints += [theta[i*m:(i+1)*m, i*l:]==0]\n",
    "  \n",
    "for i in range(M): \n",
    "    for j in range(m):\n",
    "        constraints +=[cp.norm((1/epsilon)*S[j]@(theta[(i*m):(i+1)*m])@D_bar_inv)<= lam]\n",
    "        for k in range(K):\n",
    "            constraints += [(1/epsilon)*(-eta - u_bar + S[j]@gamma[(i*m):(i+1)*m] + S[j]@(theta[(i*m):(i+1)*m]@dat[k])) <= t[k]]\n",
    "            constraints += [(1/epsilon)*(-eta - u_bar - S[j]@gamma[(i*m):(i+1)*m] - S[j]@(theta[(i*m):(i+1)*m]@dat[k])) <= t[k]]\n",
    "\n",
    "for i in range(M): \n",
    "    for j in range(4):\n",
    "        constraints +=[cp.norm((1/epsilon)*C[j]@((H+G@theta)[(i*n):(i+1)*n])@D_bar_inv)<= lam]\n",
    "        for k in range(K):\n",
    "            constraints += [(1/epsilon)*(-eta - y_bar + C[j]@(F[(i*n):(i+1)*n]@np.zeros(n) + (G@gamma)[(i*n):(i+1)*n]) + C[j]@(((H+G@theta)[(i*n):(i+1)*n])@dat[k])) <= t[k]]\n",
    "            constraints += [(1/epsilon)*(-eta - y_bar - C[j]@(F[(i*n):(i+1)*n]@np.zeros(n) + (G@gamma)[(i*n):(i+1)*n]) - C[j]@(((H+G@theta)[(i*n):(i+1)*n])@dat[k])) <= t[k]] \n",
    "\n",
    "constraints += [t >=0]\n",
    "problem = cp.Problem(cp.Minimize(objective), constraints)\n",
    "problem.solve(solver = \"CLARABEL\")"
   ]
  },
  {
   "cell_type": "code",
   "execution_count": 71,
   "metadata": {},
   "outputs": [
    {
     "data": {
      "text/plain": [
       "(1.698852247960835, -0.02646171617841436)"
      ]
     },
     "execution_count": 71,
     "metadata": {},
     "output_type": "execute_result"
    }
   ],
   "source": [
    "evalval = 0\n",
    "for k in range(testdat.shape[0]): \n",
    "    evalval += np.maximum(np.maximum(np.max([np.linalg.norm(C@(F[(i*n):(i+1)*n]@np.zeros(n) + (G@gamma.value)[(i*n):(i+1)*n] + (H+G@theta.value)[(i*n):(i+1)*n]@testdat[k]),np.inf) - y_bar for i in range(M)]), np.max([np.linalg.norm(S@(gamma.value[(i*m):(i+1)*m] + theta.value[(i*m):(i+1)*m]@testdat[k]), np.inf) - u_bar for i in range(M)])) - eta.value,0)\n",
    "evalval = eta.value + (evalval/testdat.shape[0])/epsilon\n",
    "\n",
    "eval1 = 0\n",
    "for k in range(testdat.shape[0]): \n",
    "    eval1 += np.maximum(np.max([np.linalg.norm(C@(F[(i*n):(i+1)*n]@np.zeros(n) + (G@gamma.value)[(i*n):(i+1)*n] + (H+G@theta.value)[(i*n):(i+1)*n]@testdat[k]),np.inf) - y_bar for i in range(M)]), np.max([np.linalg.norm(S@(gamma.value[(i*m):(i+1)*m] + theta.value[(i*m):(i+1)*m]@testdat[k]), np.inf) - u_bar for i in range(M)]))\n",
    "eval1 = eval1/testdat.shape[0]\n",
    "\n",
    "evalval, eval1"
   ]
  },
  {
   "cell_type": "code",
   "execution_count": null,
   "metadata": {},
   "outputs": [],
   "source": [
    "def construct_nominal(epsilon,S,C,K, M=M,n=n,m=m,l=l):\n",
    "    gamma = cp.Variable(m*M)\n",
    "    theta = cp.Variable((M*m,M*l))\n",
    "    eta = cp.Variable()\n",
    "    lam = cp.Variable()\n",
    "    t = cp.Variable(K)\n",
    "    w = cp.Parameter(K)\n",
    "    dat = cp.Parameter((K,l*M))\n",
    "    rho = cp.Parameter()\n",
    "    objective = cp.quad_form(F@np.zeros(n) + G@(gamma + theta@np.mean(data,axis=0))+ H@np.mean(data,axis=0),Q) + cp.quad_form(gamma + theta@np.mean(data,axis=0),R)\n",
    "    constraints = [eta + lam*rho + w@t <= 0]\n",
    "    for i in range(M):\n",
    "        constraints += [theta[i*m:(i+1)*m, i*l:]==0]\n",
    "        \n",
    "    for i in range(M): \n",
    "        for j in range(m):\n",
    "            constraints +=[cp.norm((1/epsilon)*S[j]@(theta[(i*m):(i+1)*m]))<= lam]\n",
    "            for k in range(K):\n",
    "                constraints += [(1/epsilon)*(-eta - u_bar + S[j]@gamma[(i*m):(i+1)*m] + S[j]@(theta[(i*m):(i+1)*m]@dat[k])) <= t[k]]\n",
    "                constraints += [(1/epsilon)*(-eta - u_bar - S[j]@gamma[(i*m):(i+1)*m] - S[j]@(theta[(i*m):(i+1)*m]@dat[k])) <= t[k]]\n",
    "    for i in range(M): \n",
    "        for j in range(4):\n",
    "            constraints +=[cp.norm((1/epsilon)*C[j]@((H+G@theta)[(i*n):(i+1)*n]))<= lam]\n",
    "            for k in range(K):\n",
    "                constraints += [(1/epsilon)*(-eta - y_bar + C[j]@(F[(i*n):(i+1)*n]@np.zeros(n) + (G@gamma)[(i*n):(i+1)*n]) + C[j]@(((H+G@theta)[(i*n):(i+1)*n])@dat[k])) <= t[k]]\n",
    "                constraints += [(1/epsilon)*(-eta - y_bar - C[j]@(F[(i*n):(i+1)*n]@np.zeros(n) + (G@gamma)[(i*n):(i+1)*n]) - C[j]@(((H+G@theta)[(i*n):(i+1)*n])@dat[k])) <= t[k]] \n",
    "    constraints += [t >=0]\n",
    "    problem = cp.Problem(cp.Minimize(objective), constraints)\n",
    "    return problem, gamma, theta, eta, lam, t, w, dat, rho\n",
    "\n",
    "def eval_nominal(testdat,gamma, theta, eta, epsilon, S,C, M=M):\n",
    "    evalval = 0\n",
    "    for k in range(testdat.shape[0]): \n",
    "        evalval += np.maximum(np.maximum(np.max([np.linalg.norm(C@(F[(i*n):(i+1)*n]@np.zeros(n) + (G@gamma.value)[(i*n):(i+1)*n] + (H+G@theta.value)[(i*n):(i+1)*n]@testdat[k]),np.inf) - y_bar for i in range(M)]), np.max([np.linalg.norm(S@(gamma.value[(i*m):(i+1)*m] + theta.value[(i*m):(i+1)*m]@testdat[k]), np.inf) - u_bar for i in range(M)])) - eta.value,0)\n",
    "    evalval = eta.value + (evalval/testdat.shape[0])/epsilon\n",
    "\n",
    "    eval1 = 0\n",
    "    for k in range(testdat.shape[0]): \n",
    "        eval1 += np.maximum(np.max([np.linalg.norm(C@(F[(i*n):(i+1)*n]@np.zeros(n) + (G@gamma.value)[(i*n):(i+1)*n] + (H+G@theta.value)[(i*n):(i+1)*n]@testdat[k]),np.inf) - y_bar for i in range(M)]), np.max([np.linalg.norm(S@(gamma.value[(i*m):(i+1)*m] + theta.value[(i*m):(i+1)*m]@testdat[k]), np.inf) - u_bar for i in range(M)]))\n",
    "    eval1 = eval1/testdat.shape[0]\n",
    "    return evalval, eval1"
   ]
  },
  {
   "cell_type": "code",
   "execution_count": null,
   "metadata": {},
   "outputs": [],
   "source": [
    "def construct_varycvar(epsilon,S,C,K, M=M,n=n,m=m,l=l):\n",
    "    gamma = cp.Variable(m*M)\n",
    "    theta = cp.Variable((M*m,M*l))\n",
    "    eta = cp.Variable(M)\n",
    "    lam = cp.Variable()\n",
    "    t = cp.Variable(K)\n",
    "    w = cp.Parameter(K)\n",
    "    dat = cp.Parameter((K,l*M))\n",
    "    rho = cp.Parameter()\n",
    "    objective = cp.quad_form(F@np.zeros(n) + G@(gamma + theta@np.mean(data,axis=0))+ H@np.mean(data,axis=0),Q) + cp.quad_form(gamma + theta@np.mean(data,axis=0),R)\n",
    "    constraints = [lam*rho + w@t <= 0]\n",
    "    for i in range(M):\n",
    "        constraints += [theta[i*m:(i+1)*m, i*l:]==0]\n",
    "      \n",
    "    for i in range(M): \n",
    "        for j in range(m):\n",
    "            constraints +=[cp.norm((1/epsilon[i])*S[j]@(theta[(i*m):(i+1)*m]))<= lam]\n",
    "            for k in range(K):\n",
    "                constraints += [eta[i] +(1/epsilon[i])*(-eta[i]  - u_bar + S[j]@gamma[(i*m):(i+1)*m] + S[j]@(theta[(i*m):(i+1)*m]@dat[k])) <= t[k]]\n",
    "                constraints += [eta[i] +(1/epsilon[i])*(-eta[i] - u_bar - S[j]@gamma[(i*m):(i+1)*m] - S[j]@(theta[(i*m):(i+1)*m]@dat[k])) <= t[k]]\n",
    "\n",
    "    for i in range(M): \n",
    "        for j in range(4):\n",
    "            constraints +=[cp.norm((1/epsilon[i])*C[j]@((H+G@theta)[(i*n):(i+1)*n]))<= lam]\n",
    "            for k in range(K):\n",
    "                constraints += [eta[i] + (1/epsilon[i])*(-eta[i]- y_bar + C[j]@(F[(i*n):(i+1)*n]@np.zeros(n) + (G@gamma)[(i*n):(i+1)*n]) + C[j]@(((H+G@theta)[(i*n):(i+1)*n])@dat[k])) <= t[k]]\n",
    "                constraints += [eta[i] + (1/epsilon[i])*(-eta[i]- y_bar - C[j]@(F[(i*n):(i+1)*n]@np.zeros(n) + (G@gamma)[(i*n):(i+1)*n]) - C[j]@(((H+G@theta)[(i*n):(i+1)*n])@dat[k])) <= t[k]] \n",
    "\n",
    "    for i in range(M):\n",
    "        constraints += [t >= eta[i]]\n",
    "    problem = cp.Problem(cp.Minimize(objective), constraints)\n",
    "    return problem, gamma, theta, eta, lam, t, w, dat, rho\n",
    "\n",
    "def eval_cvar(testdat,gamma, theta, eta, epsilon, S,C, M=M):\n",
    "    evalval = 0\n",
    "    for k in range(testdat.shape[0]): \n",
    "        evalval += np.maximum(np.max([eta[i].value + np.maximum((np.linalg.norm(C@(F[(i*n):(i+1)*n]@np.zeros(n) + (G@gamma.value)[(i*n):(i+1)*n] + (H+G@theta.value)[(i*n):(i+1)*n]@testdat[k]),np.inf) - y_bar -eta[i].value),0)/epsilon[i] for i in range(M)]), np.max([eta[i].value + np.maximum((np.linalg.norm(S@(gamma.value[(i*m):(i+1)*m] + theta.value[(i*m):(i+1)*m]@testdat[k]), np.inf) - u_bar - eta[i].value),0)/epsilon[i] for i in range(M)]))\n",
    "    evalval = evalval/testdat.shape[0]\n",
    "    eval1 = 0\n",
    "    for k in range(testdat.shape[0]): \n",
    "        eval1 += np.maximum(np.max([np.linalg.norm(C@(F[(i*n):(i+1)*n]@np.zeros(n) + (G@gamma.value)[(i*n):(i+1)*n] + (H+G@theta.value)[(i*n):(i+1)*n]@testdat[k]),np.inf) - y_bar for i in range(M)]), np.max([np.linalg.norm(S@(gamma.value[(i*m):(i+1)*m] + theta.value[(i*m):(i+1)*m]@testdat[k]), np.inf) - u_bar for i in range(M)]))\n",
    "    eval1 = eval1/testdat.shape[0]\n",
    "\n",
    "    return evalval, eval1"
   ]
  },
  {
   "cell_type": "code",
   "execution_count": null,
   "metadata": {},
   "outputs": [],
   "source": [
    "def construct_varyf(epsilon,S,C,K, M=M,n=n,m=m,l=l):\n",
    "    gamma = cp.Variable(m*M)\n",
    "    theta = cp.Variable((M*m,M*l))\n",
    "    eta = cp.Variable()\n",
    "    lam = cp.Variable()\n",
    "    t = cp.Variable(K)\n",
    "    w = cp.Parameter(K)\n",
    "    dat = cp.Parameter((K,l*M))\n",
    "    rho = cp.Parameter()\n",
    "    objective = cp.quad_form(F@np.zeros(n) + G@(gamma + theta@np.mean(data,axis=0))+ H@np.mean(data,axis=0),Q) + cp.quad_form(gamma + theta@np.mean(data,axis=0),R)\n",
    "    constraints = [eta + lam*rho + w@t <= 0]\n",
    "    for i in range(M):\n",
    "        constraints += [theta[i*m:(i+1)*m, i*l:]==0]\n",
    "      \n",
    "    for i in range(M): \n",
    "        for j in range(m):\n",
    "            constraints +=[cp.norm((1/epsilon)*S[i][j]@(theta[(i*m):(i+1)*m]))<= lam]\n",
    "            for k in range(K):\n",
    "                constraints += [(1/epsilon)*(-eta - u_bar + S[i][j]@gamma[(i*m):(i+1)*m] + S[i][j]@(theta[(i*m):(i+1)*m]@dat[k])) <= t[k]]\n",
    "                constraints += [(1/epsilon)*(-eta - u_bar - S[i][j]@gamma[(i*m):(i+1)*m] - S[i][j]@(theta[(i*m):(i+1)*m]@dat[k])) <= t[k]]\n",
    "\n",
    "    for i in range(M): \n",
    "        for j in range(4):\n",
    "            constraints +=[cp.norm((1/epsilon)*C[j]@((H+G@theta)[(i*n):(i+1)*n]))<= lam]\n",
    "            for k in range(K):\n",
    "                constraints += [(1/epsilon)*(-eta - y_bar + C[i][j]@(F[(i*n):(i+1)*n]@np.zeros(n) + (G@gamma)[(i*n):(i+1)*n]) + C[i][j]@(((H+G@theta)[(i*n):(i+1)*n])@dat[k])) <= t[k]]\n",
    "                constraints += [(1/epsilon)*(-eta - y_bar - C[i][j]@(F[(i*n):(i+1)*n]@np.zeros(n) + (G@gamma)[(i*n):(i+1)*n]) - C[i][j]@(((H+G@theta)[(i*n):(i+1)*n])@dat[k])) <= t[k]] \n",
    "    constraints += [t>=0]\n",
    "    problem = cp.Problem(cp.Minimize(objective), constraints)\n",
    "    return problem, gamma, theta, eta, lam, t, w, dat, rho\n",
    "\n",
    "def eval_f(M,testdat,gamma, theta, eta, epsilon, S,C):\n",
    "    evalval = 0\n",
    "    for k in range(testdat.shape[0]): \n",
    "        evalval += np.maximum(np.maximum(np.max([np.linalg.norm(C[i]@(F[(i*n):(i+1)*n]@np.zeros(n) + (G@gamma.value)[(i*n):(i+1)*n] + (H+G@theta.value)[(i*n):(i+1)*n]@testdat[k]),np.inf) - y_bar for i in range(M)]), np.max([np.linalg.norm(S[i]@(gamma.value[(i*m):(i+1)*m] + theta.value[(i*m):(i+1)*m]@testdat[k]), np.inf) - u_bar for i in range(M)])) - eta.value,0)\n",
    "    evalval = eta.value + (evalval/testdat.shape[0])/epsilon\n",
    "\n",
    "    eval1 = 0\n",
    "    for k in range(testdat.shape[0]): \n",
    "        eval1 += np.maximum(np.max([np.linalg.norm(C[i]@(F[(i*n):(i+1)*n]@np.zeros(n) + (G@gamma.value)[(i*n):(i+1)*n] + (H+G@theta.value)[(i*n):(i+1)*n]@testdat[k]),np.inf) - y_bar for i in range(M)]), np.max([np.linalg.norm(S[i]@(gamma.value[(i*m):(i+1)*m] + theta.value[(i*m):(i+1)*m]@testdat[k]), np.inf) - u_bar for i in range(M)]))\n",
    "    eval1 = eval1/testdat.shape[0]\n",
    "\n",
    "    return evalval, eval1"
   ]
  },
  {
   "cell_type": "code",
   "execution_count": null,
   "metadata": {},
   "outputs": [],
   "source": [
    "def construct_varydist(epsilon,S,C,K, D_bar_inv, M=M,n=n,m=m,l=l):\n",
    "    gamma = cp.Variable(m*M)\n",
    "    theta = cp.Variable((M*m,M*l))\n",
    "    eta = cp.Variable()\n",
    "    lam = cp.Variable()\n",
    "    t = cp.Variable(K)\n",
    "    w = cp.Parameter(K)\n",
    "    dat = cp.Parameter((K,l*M))\n",
    "    rho = cp.Parameter()\n",
    "    objective = cp.quad_form(F@np.zeros(n) + G@(gamma + theta@np.mean(data,axis=0))+ H@np.mean(data,axis=0),Q) + cp.quad_form(gamma + theta@np.mean(data,axis=0),R)\n",
    "    constraints = [eta + lam*rho + w@t <= 0]\n",
    "    for i in range(M):\n",
    "        constraints += [theta[i*m:(i+1)*m, i*l:]==0]\n",
    "      \n",
    "    for i in range(M): \n",
    "        for j in range(m):\n",
    "            constraints +=[cp.norm((1/epsilon)*S[j]@(theta[(i*m):(i+1)*m])@D_bar_inv)<= lam]\n",
    "            for k in range(K):\n",
    "                constraints += [(1/epsilon)*(-eta - u_bar + S[j]@gamma[(i*m):(i+1)*m] + S[j]@(theta[(i*m):(i+1)*m]@dat[k])) <= t[k]]\n",
    "                constraints += [(1/epsilon)*(-eta - u_bar - S[j]@gamma[(i*m):(i+1)*m] - S[j]@(theta[(i*m):(i+1)*m]@dat[k])) <= t[k]]\n",
    "\n",
    "    for i in range(M): \n",
    "        for j in range(4):\n",
    "            constraints +=[cp.norm((1/epsilon)*C[j]@((H+G@theta)[(i*n):(i+1)*n])@D_bar_inv)<= lam]\n",
    "            for k in range(K):\n",
    "                constraints += [(1/epsilon)*(-eta - y_bar + C[j]@(F[(i*n):(i+1)*n]@np.zeros(n) + (G@gamma)[(i*n):(i+1)*n]) + C[j]@(((H+G@theta)[(i*n):(i+1)*n])@dat[k])) <= t[k]]\n",
    "                constraints += [(1/epsilon)*(-eta - y_bar - C[j]@(F[(i*n):(i+1)*n]@np.zeros(n) + (G@gamma)[(i*n):(i+1)*n]) - C[j]@(((H+G@theta)[(i*n):(i+1)*n])@dat[k])) <= t[k]] \n",
    "\n",
    "    constraints += [t >=0]\n",
    "    problem = cp.Problem(cp.Minimize(objective), constraints)\n",
    "    return problem, gamma, theta, eta, lam, t, w, dat, rho\n",
    "\n",
    "def eval_dist(testdat,gamma, theta, eta, epsilon, S,C, M=M):\n",
    "    evalval = 0\n",
    "    for k in range(testdat.shape[0]): \n",
    "        evalval += np.maximum(np.maximum(np.max([np.linalg.norm(C@(F[(i*n):(i+1)*n]@np.zeros(n) + (G@gamma.value)[(i*n):(i+1)*n] + (H+G@theta.value)[(i*n):(i+1)*n]@testdat[k]),np.inf) - y_bar for i in range(M)]), np.max([np.linalg.norm(S@(gamma.value[(i*m):(i+1)*m] + theta.value[(i*m):(i+1)*m]@testdat[k]), np.inf) - u_bar for i in range(M)])) - eta.value,0)\n",
    "    evalval = eta.value + (evalval/testdat.shape[0])/epsilon\n",
    "\n",
    "    eval1 = 0\n",
    "    for k in range(testdat.shape[0]): \n",
    "        eval1 += np.maximum(np.max([np.linalg.norm(C@(F[(i*n):(i+1)*n]@np.zeros(n) + (G@gamma.value)[(i*n):(i+1)*n] + (H+G@theta.value)[(i*n):(i+1)*n]@testdat[k]),np.inf) - y_bar for i in range(M)]), np.max([np.linalg.norm(S@(gamma.value[(i*m):(i+1)*m] + theta.value[(i*m):(i+1)*m]@testdat[k]), np.inf) - u_bar for i in range(M)]))\n",
    "    eval1 = eval1/testdat.shape[0]\n",
    "\n",
    "    return evalval, eval1"
   ]
  }
 ],
 "metadata": {
  "kernelspec": {
   "display_name": "Python 3",
   "language": "python",
   "name": "python3"
  },
  "language_info": {
   "codemirror_mode": {
    "name": "ipython",
    "version": 3
   },
   "file_extension": ".py",
   "mimetype": "text/x-python",
   "name": "python",
   "nbconvert_exporter": "python",
   "pygments_lexer": "ipython3",
   "version": "3.11.0"
  }
 },
 "nbformat": 4,
 "nbformat_minor": 2
}
